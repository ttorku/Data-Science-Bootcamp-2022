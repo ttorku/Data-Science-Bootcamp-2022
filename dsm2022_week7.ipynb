{
 "cells": [
  {
   "cell_type": "markdown",
   "id": "970bd5b1-b5b0-4936-a206-f4304c5ee952",
   "metadata": {},
   "source": [
    "# Markdown\n",
    "## Introduction\n",
    "### Headings"
   ]
  },
  {
   "cell_type": "markdown",
   "id": "2cf8f1f0-3e82-4ef6-a4c9-0ce1e050e682",
   "metadata": {},
   "source": [
    "  In this paper, we discuss an EIQJR model with stochastic perturbation. First, a globally\n",
    "positive solution of the proposed model has been discussed. In addition, the global asymptotic\n",
    "stability and exponential mean-square stability of the disease-free equilibrium have been proven\n",
    "under suitable conditions for our model. This means that the disease will die over time. We\n",
    "investigate the asymptotic behavior around the endemic equilibrium of the deterministic model to\n",
    "show when the disease will prevail. Constructing a suitable Lyapunov functional method is crucial\n",
    "to our investigation. Parameter estimations and numerical simulations are performed to depict the\n",
    "transmission process of COVID-19 pandemic in China and to support analytical results.\n",
    "\n",
    "  In December 2019, the outbreak of the novel coronavirus disease 2019 (COVID-19/\n",
    "2019-nCoV/SARS-CoV-2) was detected in China [1,2]. The COVID-19 virus is similar to the\n",
    "severe acute respiratory syndrome (SARS) virus [3], but it is more contagious than SARS [4].\n",
    "According to the public health community [5] and the WHO [6], close contact between\n",
    "infected individuals is the primary way that the COVID-19 virus spreads. The disease can\n",
    "be spread by respiratory droplets from coughs and sneezes of the infected individuals [7,8],\n",
    "and another way to get infected is by indirect contact with contaminated surfaces [9]. The\n",
    "essential strategies for controlling virus infection include early identification, quarantine,\n",
    "diagnosis, isolation, and treatment [10]. While epidemiologists have continued to do a lot of\n",
    "research on COVID-19 [11], mathematicians have developed and studied the mathematical\n",
    "models to help in the formulation of control strategies [12]."
   ]
  },
  {
   "cell_type": "markdown",
   "id": "90f6b705-535b-4740-8a94-c34a2db8e896",
   "metadata": {},
   "source": [
    "### Mathematical Symbols"
   ]
  },
  {
   "cell_type": "markdown",
   "id": "c459e46f-898e-41e7-bcad-0a9c4f8a8bfd",
   "metadata": {},
   "source": [
    "This is a simple mathematical equation \n",
    "$$\\dfrac{dy}{dt}=y +1$$\n",
    "\n",
    "$$\\sigma =\\dfrac{1}{1+e^{-x}}$$"
   ]
  },
  {
   "cell_type": "markdown",
   "id": "d2790b6a-d0e5-49a2-b0ae-36f475fbffa6",
   "metadata": {},
   "source": [
    "### Emphasis"
   ]
  },
  {
   "cell_type": "markdown",
   "id": "3249c78e-743e-46fb-a47d-797d17d7c98d",
   "metadata": {},
   "source": [
    "We consider the **disease infection coefficient** ε and diagnosis coefficient σ in the model\n",
    "(1). ~~This can be interpreted to mean that a potentially exposed individual will spread the\n",
    "disease if they come into contact with another individual, and that a potentially infectious\n",
    "individual will spread the disease if an infected individual comes into contact with a\n",
    "susceptible individual while diagnosing the quarantine individual. *In the proposed model,\n",
    "we assume that some stochastic environmental components operate on each individual\n",
    "continuously over a small time interval*~~"
   ]
  },
  {
   "cell_type": "markdown",
   "id": "04ef6b29-1ee1-449b-9a30-fc775b8e706d",
   "metadata": {},
   "source": [
    "### Lists "
   ]
  },
  {
   "cell_type": "markdown",
   "id": "c86d595f-3b77-4ec1-adc3-d4ce2a6dd5e1",
   "metadata": {},
   "source": [
    "1. Go through markdown\n",
    "2. Go through script\n",
    "3. Go through my phd research <br>\n",
    "\n",
    "- My first list\n",
    "\n",
    "- My second list\n",
    "\n",
    "- My third list\n",
    "\n",
    "- My fourth list\n",
    "\n",
    "<!-- -- my further sublist 1\n",
    "-- my further sublist 2 -->\n",
    "\n"
   ]
  },
  {
   "cell_type": "markdown",
   "id": "9e4529ff-d9f8-4b2a-8547-40df6e3720af",
   "metadata": {},
   "source": [
    "`Discussion`\n",
    "\n",
    "In this paper, we propose and analyze a stochastic EIQJR model, which is an extension\n",
    "of deterministic model studied by Zhou and Ma [12]. We have investigated how stochastic\n",
    "perturbations in transmission coefficient ε and the diagnosis coefficient σ affect the population dynamics of COVID-19. We have developed the analysis of the model in both\n",
    "theoretical and numerical ways.\n",
    "First, we have shown that th"
   ]
  },
  {
   "cell_type": "markdown",
   "id": "b6f3168b-3195-4570-8f0a-2ac5f5e297a9",
   "metadata": {},
   "source": [
    "This is my first table in markdown <br>\n",
    "\n",
    "| Name  | Age  | Gender |\n",
    "| ----- | ---- | ------ |\n",
    "| John  |  34  | male   |\n",
    "| Sam   |  32  | male   |\n",
    "| ----- | ---- | ------ |\n",
    "\n",
    "\n"
   ]
  },
  {
   "cell_type": "markdown",
   "id": "4f60131e-f12c-4e2a-9ee8-0e2bcb96c180",
   "metadata": {},
   "source": [
    "### Inserting Image"
   ]
  },
  {
   "cell_type": "markdown",
   "id": "b1096831-ad84-4a10-a368-11858b89a5d8",
   "metadata": {},
   "source": [
    "My first image in markdown<br>\n",
    "\n",
    "<!-- <img><src=\"first_graph.png\"width=\"200\", height=\"300\"> -->\n",
    "\n",
    "<img src=\"first_graph.png\">"
   ]
  },
  {
   "cell_type": "markdown",
   "id": "d7e3b5d2-f5be-4d9c-b104-98fedeaa5ace",
   "metadata": {},
   "source": [
    "### Inserting Links"
   ]
  },
  {
   "cell_type": "markdown",
   "id": "2b654c86-2957-46f6-a536-6f3f98323c86",
   "metadata": {},
   "source": [
    "I want insert a google link<br>\n",
    "\n",
    "__[Image Link](https://datascienceparichay.com/article/insert-image-in-a-jupyter-notebook/)__"
   ]
  },
  {
   "cell_type": "code",
   "execution_count": 3,
   "id": "8ce7fad7-2f7b-455b-b157-4193157cc51b",
   "metadata": {},
   "outputs": [
    {
     "name": "stdout",
     "output_type": "stream",
     "text": [
      "The sum of two numbers is 5\n"
     ]
    }
   ],
   "source": [
    "!python3 dms.py"
   ]
  },
  {
   "cell_type": "markdown",
   "id": "d106f43a-ff74-42d4-b30c-38889d13fb7c",
   "metadata": {},
   "source": [
    "### GIT SET UP"
   ]
  },
  {
   "cell_type": "code",
   "execution_count": null,
   "id": "35de34cc-e031-49a5-a7d1-88f3065ce716",
   "metadata": {},
   "outputs": [],
   "source": [
    "#set the default branch to main\n",
    "#git config --global init.defaultBranch main\n",
    "#git config --global user.name \"Thomas Torku\" \n",
    "#git config --global user.email \"thomas.torku@mtsu.edu\"  \n",
    "#"
   ]
  },
  {
   "cell_type": "code",
   "execution_count": null,
   "id": "621ba4cb-17e3-4ff7-8c87-2594ce039ffc",
   "metadata": {},
   "outputs": [],
   "source": []
  },
  {
   "cell_type": "code",
   "execution_count": null,
   "id": "bab1a073-7e4f-41b3-a7ea-48b092c9ad98",
   "metadata": {},
   "outputs": [],
   "source": []
  },
  {
   "cell_type": "code",
   "execution_count": null,
   "id": "6765305a-d126-4912-b0b5-fec6a6aa6462",
   "metadata": {},
   "outputs": [],
   "source": []
  },
  {
   "cell_type": "code",
   "execution_count": null,
   "id": "80cf0fe9-3851-414d-ac13-935e3459a4a4",
   "metadata": {},
   "outputs": [],
   "source": []
  }
 ],
 "metadata": {
  "kernelspec": {
   "display_name": "Python 3 (ipykernel)",
   "language": "python",
   "name": "python3"
  },
  "language_info": {
   "codemirror_mode": {
    "name": "ipython",
    "version": 3
   },
   "file_extension": ".py",
   "mimetype": "text/x-python",
   "name": "python",
   "nbconvert_exporter": "python",
   "pygments_lexer": "ipython3",
   "version": "3.9.12"
  }
 },
 "nbformat": 4,
 "nbformat_minor": 5
}
